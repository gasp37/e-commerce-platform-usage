{
 "cells": [
  {
   "cell_type": "code",
   "execution_count": 31,
   "metadata": {},
   "outputs": [],
   "source": [
    "import pandas as pd\n",
    "import numpy as np\n",
    "import matplotlib.pyplot as plt\n",
    "import seaborn as sns\n",
    "import warnings\n",
    "warnings.filterwarnings('ignore')"
   ]
  },
  {
   "cell_type": "code",
   "execution_count": 2,
   "metadata": {},
   "outputs": [
    {
     "data": {
      "text/html": [
       "<div>\n",
       "<style scoped>\n",
       "    .dataframe tbody tr th:only-of-type {\n",
       "        vertical-align: middle;\n",
       "    }\n",
       "\n",
       "    .dataframe tbody tr th {\n",
       "        vertical-align: top;\n",
       "    }\n",
       "\n",
       "    .dataframe thead th {\n",
       "        text-align: right;\n",
       "    }\n",
       "</style>\n",
       "<table border=\"1\" class=\"dataframe\">\n",
       "  <thead>\n",
       "    <tr style=\"text-align: right;\">\n",
       "      <th></th>\n",
       "      <th>years-customer-register</th>\n",
       "      <th>avg-clicks-per-session</th>\n",
       "      <th>time-spent-on-app</th>\n",
       "      <th>time-spent-on-website</th>\n",
       "      <th>total-amount-spent</th>\n",
       "    </tr>\n",
       "  </thead>\n",
       "  <tbody>\n",
       "    <tr>\n",
       "      <th>0</th>\n",
       "      <td>3.472021</td>\n",
       "      <td>33.119954</td>\n",
       "      <td>12.953263</td>\n",
       "      <td>37.034280</td>\n",
       "      <td>534.771485</td>\n",
       "    </tr>\n",
       "    <tr>\n",
       "      <th>1</th>\n",
       "      <td>4.198349</td>\n",
       "      <td>35.371876</td>\n",
       "      <td>10.572467</td>\n",
       "      <td>36.862183</td>\n",
       "      <td>537.915753</td>\n",
       "    </tr>\n",
       "    <tr>\n",
       "      <th>2</th>\n",
       "      <td>2.086348</td>\n",
       "      <td>33.976083</td>\n",
       "      <td>11.658037</td>\n",
       "      <td>37.425279</td>\n",
       "      <td>407.876378</td>\n",
       "    </tr>\n",
       "    <tr>\n",
       "      <th>3</th>\n",
       "      <td>3.605934</td>\n",
       "      <td>34.034164</td>\n",
       "      <td>13.592513</td>\n",
       "      <td>36.838657</td>\n",
       "      <td>618.845970</td>\n",
       "    </tr>\n",
       "    <tr>\n",
       "      <th>4</th>\n",
       "      <td>4.034386</td>\n",
       "      <td>32.770492</td>\n",
       "      <td>11.371767</td>\n",
       "      <td>35.261498</td>\n",
       "      <td>502.771075</td>\n",
       "    </tr>\n",
       "    <tr>\n",
       "      <th>...</th>\n",
       "      <td>...</td>\n",
       "      <td>...</td>\n",
       "      <td>...</td>\n",
       "      <td>...</td>\n",
       "      <td>...</td>\n",
       "    </tr>\n",
       "    <tr>\n",
       "      <th>495</th>\n",
       "      <td>1.820811</td>\n",
       "      <td>34.606242</td>\n",
       "      <td>11.761884</td>\n",
       "      <td>38.126520</td>\n",
       "      <td>402.167122</td>\n",
       "    </tr>\n",
       "    <tr>\n",
       "      <th>496</th>\n",
       "      <td>4.183144</td>\n",
       "      <td>34.238242</td>\n",
       "      <td>11.550300</td>\n",
       "      <td>35.769330</td>\n",
       "      <td>551.023002</td>\n",
       "    </tr>\n",
       "    <tr>\n",
       "      <th>497</th>\n",
       "      <td>3.393903</td>\n",
       "      <td>32.047815</td>\n",
       "      <td>12.482670</td>\n",
       "      <td>35.536025</td>\n",
       "      <td>497.389558</td>\n",
       "    </tr>\n",
       "    <tr>\n",
       "      <th>498</th>\n",
       "      <td>4.426364</td>\n",
       "      <td>30.971676</td>\n",
       "      <td>11.731364</td>\n",
       "      <td>36.074551</td>\n",
       "      <td>494.638610</td>\n",
       "    </tr>\n",
       "    <tr>\n",
       "      <th>499</th>\n",
       "      <td>2.905238</td>\n",
       "      <td>33.606851</td>\n",
       "      <td>12.214074</td>\n",
       "      <td>37.198428</td>\n",
       "      <td>479.247417</td>\n",
       "    </tr>\n",
       "  </tbody>\n",
       "</table>\n",
       "<p>500 rows × 5 columns</p>\n",
       "</div>"
      ],
      "text/plain": [
       "     years-customer-register  avg-clicks-per-session  time-spent-on-app  \\\n",
       "0                   3.472021               33.119954          12.953263   \n",
       "1                   4.198349               35.371876          10.572467   \n",
       "2                   2.086348               33.976083          11.658037   \n",
       "3                   3.605934               34.034164          13.592513   \n",
       "4                   4.034386               32.770492          11.371767   \n",
       "..                       ...                     ...                ...   \n",
       "495                 1.820811               34.606242          11.761884   \n",
       "496                 4.183144               34.238242          11.550300   \n",
       "497                 3.393903               32.047815          12.482670   \n",
       "498                 4.426364               30.971676          11.731364   \n",
       "499                 2.905238               33.606851          12.214074   \n",
       "\n",
       "     time-spent-on-website  total-amount-spent  \n",
       "0                37.034280          534.771485  \n",
       "1                36.862183          537.915753  \n",
       "2                37.425279          407.876378  \n",
       "3                36.838657          618.845970  \n",
       "4                35.261498          502.771075  \n",
       "..                     ...                 ...  \n",
       "495              38.126520          402.167122  \n",
       "496              35.769330          551.023002  \n",
       "497              35.536025          497.389558  \n",
       "498              36.074551          494.638610  \n",
       "499              37.198428          479.247417  \n",
       "\n",
       "[500 rows x 5 columns]"
      ]
     },
     "execution_count": 2,
     "metadata": {},
     "output_type": "execute_result"
    }
   ],
   "source": [
    "customers_table_raw = pd.read_csv('data/dataset.csv')\n",
    "customers_table_raw"
   ]
  },
  {
   "attachments": {},
   "cell_type": "markdown",
   "metadata": {},
   "source": [
    "For the sake of clarity, I'll adjust the time columns names, so it indicates the time unit."
   ]
  },
  {
   "cell_type": "code",
   "execution_count": 3,
   "metadata": {},
   "outputs": [],
   "source": [
    "customers_table = customers_table_raw.copy()\n",
    "customers_table.columns = ['years-customer-register', 'avg-clicks-per-session', 'minutes-spent-on-app', 'minutes-spent-on-website', 'total-amount-spent']"
   ]
  },
  {
   "cell_type": "code",
   "execution_count": 4,
   "metadata": {},
   "outputs": [
    {
     "data": {
      "text/html": [
       "<div>\n",
       "<style scoped>\n",
       "    .dataframe tbody tr th:only-of-type {\n",
       "        vertical-align: middle;\n",
       "    }\n",
       "\n",
       "    .dataframe tbody tr th {\n",
       "        vertical-align: top;\n",
       "    }\n",
       "\n",
       "    .dataframe thead th {\n",
       "        text-align: right;\n",
       "    }\n",
       "</style>\n",
       "<table border=\"1\" class=\"dataframe\">\n",
       "  <thead>\n",
       "    <tr style=\"text-align: right;\">\n",
       "      <th></th>\n",
       "      <th>years-customer-register</th>\n",
       "      <th>avg-clicks-per-session</th>\n",
       "      <th>minutes-spent-on-app</th>\n",
       "      <th>minutes-spent-on-website</th>\n",
       "      <th>total-amount-spent</th>\n",
       "    </tr>\n",
       "  </thead>\n",
       "  <tbody>\n",
       "    <tr>\n",
       "      <th>0</th>\n",
       "      <td>3.472021</td>\n",
       "      <td>33.119954</td>\n",
       "      <td>12.953263</td>\n",
       "      <td>37.034280</td>\n",
       "      <td>534.771485</td>\n",
       "    </tr>\n",
       "    <tr>\n",
       "      <th>1</th>\n",
       "      <td>4.198349</td>\n",
       "      <td>35.371876</td>\n",
       "      <td>10.572467</td>\n",
       "      <td>36.862183</td>\n",
       "      <td>537.915753</td>\n",
       "    </tr>\n",
       "    <tr>\n",
       "      <th>2</th>\n",
       "      <td>2.086348</td>\n",
       "      <td>33.976083</td>\n",
       "      <td>11.658037</td>\n",
       "      <td>37.425279</td>\n",
       "      <td>407.876378</td>\n",
       "    </tr>\n",
       "    <tr>\n",
       "      <th>3</th>\n",
       "      <td>3.605934</td>\n",
       "      <td>34.034164</td>\n",
       "      <td>13.592513</td>\n",
       "      <td>36.838657</td>\n",
       "      <td>618.845970</td>\n",
       "    </tr>\n",
       "    <tr>\n",
       "      <th>4</th>\n",
       "      <td>4.034386</td>\n",
       "      <td>32.770492</td>\n",
       "      <td>11.371767</td>\n",
       "      <td>35.261498</td>\n",
       "      <td>502.771075</td>\n",
       "    </tr>\n",
       "    <tr>\n",
       "      <th>...</th>\n",
       "      <td>...</td>\n",
       "      <td>...</td>\n",
       "      <td>...</td>\n",
       "      <td>...</td>\n",
       "      <td>...</td>\n",
       "    </tr>\n",
       "    <tr>\n",
       "      <th>495</th>\n",
       "      <td>1.820811</td>\n",
       "      <td>34.606242</td>\n",
       "      <td>11.761884</td>\n",
       "      <td>38.126520</td>\n",
       "      <td>402.167122</td>\n",
       "    </tr>\n",
       "    <tr>\n",
       "      <th>496</th>\n",
       "      <td>4.183144</td>\n",
       "      <td>34.238242</td>\n",
       "      <td>11.550300</td>\n",
       "      <td>35.769330</td>\n",
       "      <td>551.023002</td>\n",
       "    </tr>\n",
       "    <tr>\n",
       "      <th>497</th>\n",
       "      <td>3.393903</td>\n",
       "      <td>32.047815</td>\n",
       "      <td>12.482670</td>\n",
       "      <td>35.536025</td>\n",
       "      <td>497.389558</td>\n",
       "    </tr>\n",
       "    <tr>\n",
       "      <th>498</th>\n",
       "      <td>4.426364</td>\n",
       "      <td>30.971676</td>\n",
       "      <td>11.731364</td>\n",
       "      <td>36.074551</td>\n",
       "      <td>494.638610</td>\n",
       "    </tr>\n",
       "    <tr>\n",
       "      <th>499</th>\n",
       "      <td>2.905238</td>\n",
       "      <td>33.606851</td>\n",
       "      <td>12.214074</td>\n",
       "      <td>37.198428</td>\n",
       "      <td>479.247417</td>\n",
       "    </tr>\n",
       "  </tbody>\n",
       "</table>\n",
       "<p>500 rows × 5 columns</p>\n",
       "</div>"
      ],
      "text/plain": [
       "     years-customer-register  avg-clicks-per-session  minutes-spent-on-app  \\\n",
       "0                   3.472021               33.119954             12.953263   \n",
       "1                   4.198349               35.371876             10.572467   \n",
       "2                   2.086348               33.976083             11.658037   \n",
       "3                   3.605934               34.034164             13.592513   \n",
       "4                   4.034386               32.770492             11.371767   \n",
       "..                       ...                     ...                   ...   \n",
       "495                 1.820811               34.606242             11.761884   \n",
       "496                 4.183144               34.238242             11.550300   \n",
       "497                 3.393903               32.047815             12.482670   \n",
       "498                 4.426364               30.971676             11.731364   \n",
       "499                 2.905238               33.606851             12.214074   \n",
       "\n",
       "     minutes-spent-on-website  total-amount-spent  \n",
       "0                   37.034280          534.771485  \n",
       "1                   36.862183          537.915753  \n",
       "2                   37.425279          407.876378  \n",
       "3                   36.838657          618.845970  \n",
       "4                   35.261498          502.771075  \n",
       "..                        ...                 ...  \n",
       "495                 38.126520          402.167122  \n",
       "496                 35.769330          551.023002  \n",
       "497                 35.536025          497.389558  \n",
       "498                 36.074551          494.638610  \n",
       "499                 37.198428          479.247417  \n",
       "\n",
       "[500 rows x 5 columns]"
      ]
     },
     "execution_count": 4,
     "metadata": {},
     "output_type": "execute_result"
    }
   ],
   "source": [
    "customers_table"
   ]
  },
  {
   "cell_type": "code",
   "execution_count": 5,
   "metadata": {},
   "outputs": [
    {
     "data": {
      "text/html": [
       "<div>\n",
       "<style scoped>\n",
       "    .dataframe tbody tr th:only-of-type {\n",
       "        vertical-align: middle;\n",
       "    }\n",
       "\n",
       "    .dataframe tbody tr th {\n",
       "        vertical-align: top;\n",
       "    }\n",
       "\n",
       "    .dataframe thead th {\n",
       "        text-align: right;\n",
       "    }\n",
       "</style>\n",
       "<table border=\"1\" class=\"dataframe\">\n",
       "  <thead>\n",
       "    <tr style=\"text-align: right;\">\n",
       "      <th></th>\n",
       "      <th>years-customer-register</th>\n",
       "      <th>avg-clicks-per-session</th>\n",
       "      <th>minutes-spent-on-app</th>\n",
       "      <th>minutes-spent-on-website</th>\n",
       "      <th>total-amount-spent</th>\n",
       "    </tr>\n",
       "  </thead>\n",
       "  <tbody>\n",
       "    <tr>\n",
       "      <th>count</th>\n",
       "      <td>500.000000</td>\n",
       "      <td>500.000000</td>\n",
       "      <td>500.000000</td>\n",
       "      <td>500.000000</td>\n",
       "      <td>500.000000</td>\n",
       "    </tr>\n",
       "    <tr>\n",
       "      <th>mean</th>\n",
       "      <td>3.533462</td>\n",
       "      <td>33.053194</td>\n",
       "      <td>12.052488</td>\n",
       "      <td>37.060445</td>\n",
       "      <td>499.314038</td>\n",
       "    </tr>\n",
       "    <tr>\n",
       "      <th>std</th>\n",
       "      <td>0.999278</td>\n",
       "      <td>0.992563</td>\n",
       "      <td>0.994216</td>\n",
       "      <td>1.010489</td>\n",
       "      <td>79.314782</td>\n",
       "    </tr>\n",
       "    <tr>\n",
       "      <th>min</th>\n",
       "      <td>0.269901</td>\n",
       "      <td>29.532429</td>\n",
       "      <td>8.508152</td>\n",
       "      <td>33.913847</td>\n",
       "      <td>256.670582</td>\n",
       "    </tr>\n",
       "    <tr>\n",
       "      <th>25%</th>\n",
       "      <td>2.930450</td>\n",
       "      <td>32.341822</td>\n",
       "      <td>11.388153</td>\n",
       "      <td>36.349257</td>\n",
       "      <td>445.038277</td>\n",
       "    </tr>\n",
       "    <tr>\n",
       "      <th>50%</th>\n",
       "      <td>3.533975</td>\n",
       "      <td>33.082008</td>\n",
       "      <td>11.983231</td>\n",
       "      <td>37.069367</td>\n",
       "      <td>498.887875</td>\n",
       "    </tr>\n",
       "    <tr>\n",
       "      <th>75%</th>\n",
       "      <td>4.126502</td>\n",
       "      <td>33.711985</td>\n",
       "      <td>12.753850</td>\n",
       "      <td>37.716432</td>\n",
       "      <td>549.313828</td>\n",
       "    </tr>\n",
       "    <tr>\n",
       "      <th>max</th>\n",
       "      <td>6.922689</td>\n",
       "      <td>36.139662</td>\n",
       "      <td>15.126994</td>\n",
       "      <td>40.005182</td>\n",
       "      <td>765.518462</td>\n",
       "    </tr>\n",
       "  </tbody>\n",
       "</table>\n",
       "</div>"
      ],
      "text/plain": [
       "       years-customer-register  avg-clicks-per-session  minutes-spent-on-app  \\\n",
       "count               500.000000              500.000000            500.000000   \n",
       "mean                  3.533462               33.053194             12.052488   \n",
       "std                   0.999278                0.992563              0.994216   \n",
       "min                   0.269901               29.532429              8.508152   \n",
       "25%                   2.930450               32.341822             11.388153   \n",
       "50%                   3.533975               33.082008             11.983231   \n",
       "75%                   4.126502               33.711985             12.753850   \n",
       "max                   6.922689               36.139662             15.126994   \n",
       "\n",
       "       minutes-spent-on-website  total-amount-spent  \n",
       "count                500.000000          500.000000  \n",
       "mean                  37.060445          499.314038  \n",
       "std                    1.010489           79.314782  \n",
       "min                   33.913847          256.670582  \n",
       "25%                   36.349257          445.038277  \n",
       "50%                   37.069367          498.887875  \n",
       "75%                   37.716432          549.313828  \n",
       "max                   40.005182          765.518462  "
      ]
     },
     "execution_count": 5,
     "metadata": {},
     "output_type": "execute_result"
    }
   ],
   "source": [
    "customers_table.describe()"
   ]
  },
  {
   "cell_type": "code",
   "execution_count": 6,
   "metadata": {},
   "outputs": [
    {
     "data": {
      "text/plain": [
       "False"
      ]
     },
     "execution_count": 6,
     "metadata": {},
     "output_type": "execute_result"
    }
   ],
   "source": [
    "customers_table.isnull().values.any()"
   ]
  },
  {
   "attachments": {},
   "cell_type": "markdown",
   "metadata": {},
   "source": [
    "---"
   ]
  },
  {
   "attachments": {},
   "cell_type": "markdown",
   "metadata": {},
   "source": [
    "### Exploratory Analysis"
   ]
  },
  {
   "attachments": {},
   "cell_type": "markdown",
   "metadata": {},
   "source": [
    "Here will do simple data analysis, just so we can capture some patterns within the data."
   ]
  },
  {
   "cell_type": "code",
   "execution_count": 51,
   "metadata": {},
   "outputs": [
    {
     "data": {
      "image/png": "[encoded data removed]",
      "text/plain": [
       "<Figure size 432x288 with 1 Axes>"
      ]
     },
     "metadata": {
      "needs_background": "light"
     },
     "output_type": "display_data"
    }
   ],
   "source": [
    "spending_by_years_registered = customers_table[['years-customer-register', 'total-amount-spent']].copy()\n",
    "spending_by_years_registered.loc[:,'years-customer-register'] = spending_by_years_registered.loc[:,'years-customer-register'].apply(np.floor)\n",
    "spending_by_years_registered = spending_by_years_registered.groupby('years-customer-register').mean().reset_index()\n",
    "\n",
    "ax = sns.barplot(data=spending_by_years_registered, x='years-customer-register', y='total-amount-spent')\n",
    "ax = ax.bar_label(ax.containers[0])"
   ]
  },
  {
   "cell_type": "code",
   "execution_count": 68,
   "metadata": {},
   "outputs": [
    {
     "data": {
      "image/png": "[encoded data removed]",
      "text/plain": [
       "<Figure size 432x288 with 1 Axes>"
      ]
     },
     "metadata": {
      "needs_background": "light"
     },
     "output_type": "display_data"
    }
   ],
   "source": [
    "spending_by_minutes_on_app = customers_table[['minutes-spent-on-app', 'total-amount-spent']].copy()\n",
    "spending_by_minutes_on_app['minutes-spent-on-app'] = spending_by_minutes_on_app['minutes-spent-on-app'].apply(np.floor)\n",
    "spending_by_minutes_on_app = spending_by_minutes_on_app.groupby(by='minutes-spent-on-app').mean().reset_index()\n",
    "\n",
    "_ax = sns.barplot(spending_by_minutes_on_app, x='minutes-spent-on-app', y='total-amount-spent')\n",
    "_ax = _ax.bar_label(_ax.containers[0])"
   ]
  },
  {
   "cell_type": "code",
   "execution_count": 69,
   "metadata": {},
   "outputs": [
    {
     "data": {
      "image/png": "[encoded data removed]",
      "text/plain": [
       "<Figure size 432x288 with 1 Axes>"
      ]
     },
     "metadata": {
      "needs_background": "light"
     },
     "output_type": "display_data"
    }
   ],
   "source": [
    "spending_by_minutes_on_website = customers_table[['minutes-spent-on-website', 'total-amount-spent']].copy()\n",
    "spending_by_minutes_on_website['minutes-spent-on-website'] = spending_by_minutes_on_website['minutes-spent-on-website'].apply(np.floor)\n",
    "spending_by_minutes_on_website = spending_by_minutes_on_website.groupby(by='minutes-spent-on-website').mean().reset_index()\n",
    "\n",
    "_ax = sns.barplot(spending_by_minutes_on_website, x='minutes-spent-on-website', y='total-amount-spent')\n",
    "_ax = _ax.bar_label(_ax.containers[0])"
   ]
  },
  {
   "attachments": {},
   "cell_type": "markdown",
   "metadata": {},
   "source": [
    "Now that's some intresting results! First we can see that people tend to spend way more time on the website than on the app. Second, while people who spend more time on the app usually end up spending more. On the website, we can see a most sales are made in the 33rd minute, and then the number of sales goes down to around 480 in each minute."
   ]
  },
  {
   "cell_type": "markdown",
   "metadata": {},
   "source": [
    "---"
   ]
  },
  {
   "attachments": {},
   "cell_type": "markdown",
   "metadata": {},
   "source": [
    "### Building models"
   ]
  },
  {
   "cell_type": "markdown",
   "metadata": {},
   "source": [
    "On to what matters, let's build our first model."
   ]
  },
  {
   "cell_type": "code",
   "execution_count": 82,
   "metadata": {},
   "outputs": [],
   "source": [
    "from sklearn.linear_model import LinearRegression\n",
    "from sklearn.model_selection import train_test_split\n",
    "from sklearn.metrics import confusion_matrix"
   ]
  },
  {
   "cell_type": "code",
   "execution_count": 78,
   "metadata": {},
   "outputs": [],
   "source": [
    "X_unsplit = customers_table.drop(columns='total-amount-spent')\n",
    "y_unsplit = customers_table['total-amount-spent']\n",
    "X_train, X_test, y_train, y_test = train_test_split(X_unsplit, y_unsplit, test_size=0.3)"
   ]
  },
  {
   "cell_type": "code",
   "execution_count": 84,
   "metadata": {},
   "outputs": [
    {
     "name": "stdout",
     "output_type": "stream",
     "text": [
      "0.9833448673759704\n",
      "0.9855466996801101\n"
     ]
    }
   ],
   "source": [
    "first_linear_model = LinearRegression()\n",
    "first_linear_model.fit(X_train, y_train)\n",
    "\n",
    "print(first_linear_model.score(X_train, y_train))\n",
    "print(first_linear_model.score(X_test, y_test))"
   ]
  },
  {
   "cell_type": "code",
   "execution_count": null,
   "metadata": {},
   "outputs": [],
   "source": []
  }
 ],
 "metadata": {
  "kernelspec": {
   "display_name": "Python 3",
   "language": "python",
   "name": "python3"
  },
  "language_info": {
   "codemirror_mode": {
    "name": "ipython",
    "version": 3
   },
   "file_extension": ".py",
   "mimetype": "text/x-python",
   "name": "python",
   "nbconvert_exporter": "python",
   "pygments_lexer": "ipython3",
   "version": "3.9.5"
  },
  "orig_nbformat": 4
 },
 "nbformat": 4,
 "nbformat_minor": 2
}
