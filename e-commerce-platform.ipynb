{
 "cells": [
  {
   "cell_type": "code",
   "execution_count": 1,
   "metadata": {},
   "outputs": [],
   "source": [
    "import pandas as pd\n",
    "import numpy as np\n",
    "import matplotlib.pyplot as plt\n",
    "import seaborn as sns\n",
    "import warnings\n",
    "warnings.filterwarnings('ignore')"
   ]
  },
  {
   "cell_type": "code",
   "execution_count": 2,
   "metadata": {},
   "outputs": [
    {
     "data": {
      "text/html": [
       "<div>\n",
       "<style scoped>\n",
       "    .dataframe tbody tr th:only-of-type {\n",
       "        vertical-align: middle;\n",
       "    }\n",
       "\n",
       "    .dataframe tbody tr th {\n",
       "        vertical-align: top;\n",
       "    }\n",
       "\n",
       "    .dataframe thead th {\n",
       "        text-align: right;\n",
       "    }\n",
       "</style>\n",
       "<table border=\"1\" class=\"dataframe\">\n",
       "  <thead>\n",
       "    <tr style=\"text-align: right;\">\n",
       "      <th></th>\n",
       "      <th>years-customer-register</th>\n",
       "      <th>avg-clicks-per-session</th>\n",
       "      <th>time-spent-on-app</th>\n",
       "      <th>time-spent-on-website</th>\n",
       "      <th>total-amount-spent</th>\n",
       "    </tr>\n",
       "  </thead>\n",
       "  <tbody>\n",
       "    <tr>\n",
       "      <th>0</th>\n",
       "      <td>3.472021</td>\n",
       "      <td>33.119954</td>\n",
       "      <td>12.953263</td>\n",
       "      <td>37.034280</td>\n",
       "      <td>534.771485</td>\n",
       "    </tr>\n",
       "    <tr>\n",
       "      <th>1</th>\n",
       "      <td>4.198349</td>\n",
       "      <td>35.371876</td>\n",
       "      <td>10.572467</td>\n",
       "      <td>36.862183</td>\n",
       "      <td>537.915753</td>\n",
       "    </tr>\n",
       "    <tr>\n",
       "      <th>2</th>\n",
       "      <td>2.086348</td>\n",
       "      <td>33.976083</td>\n",
       "      <td>11.658037</td>\n",
       "      <td>37.425279</td>\n",
       "      <td>407.876378</td>\n",
       "    </tr>\n",
       "    <tr>\n",
       "      <th>3</th>\n",
       "      <td>3.605934</td>\n",
       "      <td>34.034164</td>\n",
       "      <td>13.592513</td>\n",
       "      <td>36.838657</td>\n",
       "      <td>618.845970</td>\n",
       "    </tr>\n",
       "    <tr>\n",
       "      <th>4</th>\n",
       "      <td>4.034386</td>\n",
       "      <td>32.770492</td>\n",
       "      <td>11.371767</td>\n",
       "      <td>35.261498</td>\n",
       "      <td>502.771075</td>\n",
       "    </tr>\n",
       "    <tr>\n",
       "      <th>...</th>\n",
       "      <td>...</td>\n",
       "      <td>...</td>\n",
       "      <td>...</td>\n",
       "      <td>...</td>\n",
       "      <td>...</td>\n",
       "    </tr>\n",
       "    <tr>\n",
       "      <th>495</th>\n",
       "      <td>1.820811</td>\n",
       "      <td>34.606242</td>\n",
       "      <td>11.761884</td>\n",
       "      <td>38.126520</td>\n",
       "      <td>402.167122</td>\n",
       "    </tr>\n",
       "    <tr>\n",
       "      <th>496</th>\n",
       "      <td>4.183144</td>\n",
       "      <td>34.238242</td>\n",
       "      <td>11.550300</td>\n",
       "      <td>35.769330</td>\n",
       "      <td>551.023002</td>\n",
       "    </tr>\n",
       "    <tr>\n",
       "      <th>497</th>\n",
       "      <td>3.393903</td>\n",
       "      <td>32.047815</td>\n",
       "      <td>12.482670</td>\n",
       "      <td>35.536025</td>\n",
       "      <td>497.389558</td>\n",
       "    </tr>\n",
       "    <tr>\n",
       "      <th>498</th>\n",
       "      <td>4.426364</td>\n",
       "      <td>30.971676</td>\n",
       "      <td>11.731364</td>\n",
       "      <td>36.074551</td>\n",
       "      <td>494.638610</td>\n",
       "    </tr>\n",
       "    <tr>\n",
       "      <th>499</th>\n",
       "      <td>2.905238</td>\n",
       "      <td>33.606851</td>\n",
       "      <td>12.214074</td>\n",
       "      <td>37.198428</td>\n",
       "      <td>479.247417</td>\n",
       "    </tr>\n",
       "  </tbody>\n",
       "</table>\n",
       "<p>500 rows × 5 columns</p>\n",
       "</div>"
      ],
      "text/plain": [
       "     years-customer-register  avg-clicks-per-session  time-spent-on-app  \\\n",
       "0                   3.472021               33.119954          12.953263   \n",
       "1                   4.198349               35.371876          10.572467   \n",
       "2                   2.086348               33.976083          11.658037   \n",
       "3                   3.605934               34.034164          13.592513   \n",
       "4                   4.034386               32.770492          11.371767   \n",
       "..                       ...                     ...                ...   \n",
       "495                 1.820811               34.606242          11.761884   \n",
       "496                 4.183144               34.238242          11.550300   \n",
       "497                 3.393903               32.047815          12.482670   \n",
       "498                 4.426364               30.971676          11.731364   \n",
       "499                 2.905238               33.606851          12.214074   \n",
       "\n",
       "     time-spent-on-website  total-amount-spent  \n",
       "0                37.034280          534.771485  \n",
       "1                36.862183          537.915753  \n",
       "2                37.425279          407.876378  \n",
       "3                36.838657          618.845970  \n",
       "4                35.261498          502.771075  \n",
       "..                     ...                 ...  \n",
       "495              38.126520          402.167122  \n",
       "496              35.769330          551.023002  \n",
       "497              35.536025          497.389558  \n",
       "498              36.074551          494.638610  \n",
       "499              37.198428          479.247417  \n",
       "\n",
       "[500 rows x 5 columns]"
      ]
     },
     "execution_count": 2,
     "metadata": {},
     "output_type": "execute_result"
    }
   ],
   "source": [
    "customers_table_raw = pd.read_csv('data/dataset.csv')\n",
    "customers_table_raw"
   ]
  },
  {
   "attachments": {},
   "cell_type": "markdown",
   "metadata": {},
   "source": [
    "For the sake of clarity, I'll adjust the time columns names, so it indicates the time unit."
   ]
  },
  {
   "cell_type": "code",
   "execution_count": 3,
   "metadata": {},
   "outputs": [],
   "source": [
    "customers_table = customers_table_raw.copy()\n",
    "customers_table.columns = ['years-customer-register', 'avg-clicks-per-session', 'minutes-spent-on-app', 'minutes-spent-on-website', 'total-amount-spent']"
   ]
  },
  {
   "cell_type": "code",
   "execution_count": 4,
   "metadata": {},
   "outputs": [
    {
     "data": {
      "text/html": [
       "<div>\n",
       "<style scoped>\n",
       "    .dataframe tbody tr th:only-of-type {\n",
       "        vertical-align: middle;\n",
       "    }\n",
       "\n",
       "    .dataframe tbody tr th {\n",
       "        vertical-align: top;\n",
       "    }\n",
       "\n",
       "    .dataframe thead th {\n",
       "        text-align: right;\n",
       "    }\n",
       "</style>\n",
       "<table border=\"1\" class=\"dataframe\">\n",
       "  <thead>\n",
       "    <tr style=\"text-align: right;\">\n",
       "      <th></th>\n",
       "      <th>years-customer-register</th>\n",
       "      <th>avg-clicks-per-session</th>\n",
       "      <th>minutes-spent-on-app</th>\n",
       "      <th>minutes-spent-on-website</th>\n",
       "      <th>total-amount-spent</th>\n",
       "    </tr>\n",
       "  </thead>\n",
       "  <tbody>\n",
       "    <tr>\n",
       "      <th>0</th>\n",
       "      <td>3.472021</td>\n",
       "      <td>33.119954</td>\n",
       "      <td>12.953263</td>\n",
       "      <td>37.034280</td>\n",
       "      <td>534.771485</td>\n",
       "    </tr>\n",
       "    <tr>\n",
       "      <th>1</th>\n",
       "      <td>4.198349</td>\n",
       "      <td>35.371876</td>\n",
       "      <td>10.572467</td>\n",
       "      <td>36.862183</td>\n",
       "      <td>537.915753</td>\n",
       "    </tr>\n",
       "    <tr>\n",
       "      <th>2</th>\n",
       "      <td>2.086348</td>\n",
       "      <td>33.976083</td>\n",
       "      <td>11.658037</td>\n",
       "      <td>37.425279</td>\n",
       "      <td>407.876378</td>\n",
       "    </tr>\n",
       "    <tr>\n",
       "      <th>3</th>\n",
       "      <td>3.605934</td>\n",
       "      <td>34.034164</td>\n",
       "      <td>13.592513</td>\n",
       "      <td>36.838657</td>\n",
       "      <td>618.845970</td>\n",
       "    </tr>\n",
       "    <tr>\n",
       "      <th>4</th>\n",
       "      <td>4.034386</td>\n",
       "      <td>32.770492</td>\n",
       "      <td>11.371767</td>\n",
       "      <td>35.261498</td>\n",
       "      <td>502.771075</td>\n",
       "    </tr>\n",
       "    <tr>\n",
       "      <th>...</th>\n",
       "      <td>...</td>\n",
       "      <td>...</td>\n",
       "      <td>...</td>\n",
       "      <td>...</td>\n",
       "      <td>...</td>\n",
       "    </tr>\n",
       "    <tr>\n",
       "      <th>495</th>\n",
       "      <td>1.820811</td>\n",
       "      <td>34.606242</td>\n",
       "      <td>11.761884</td>\n",
       "      <td>38.126520</td>\n",
       "      <td>402.167122</td>\n",
       "    </tr>\n",
       "    <tr>\n",
       "      <th>496</th>\n",
       "      <td>4.183144</td>\n",
       "      <td>34.238242</td>\n",
       "      <td>11.550300</td>\n",
       "      <td>35.769330</td>\n",
       "      <td>551.023002</td>\n",
       "    </tr>\n",
       "    <tr>\n",
       "      <th>497</th>\n",
       "      <td>3.393903</td>\n",
       "      <td>32.047815</td>\n",
       "      <td>12.482670</td>\n",
       "      <td>35.536025</td>\n",
       "      <td>497.389558</td>\n",
       "    </tr>\n",
       "    <tr>\n",
       "      <th>498</th>\n",
       "      <td>4.426364</td>\n",
       "      <td>30.971676</td>\n",
       "      <td>11.731364</td>\n",
       "      <td>36.074551</td>\n",
       "      <td>494.638610</td>\n",
       "    </tr>\n",
       "    <tr>\n",
       "      <th>499</th>\n",
       "      <td>2.905238</td>\n",
       "      <td>33.606851</td>\n",
       "      <td>12.214074</td>\n",
       "      <td>37.198428</td>\n",
       "      <td>479.247417</td>\n",
       "    </tr>\n",
       "  </tbody>\n",
       "</table>\n",
       "<p>500 rows × 5 columns</p>\n",
       "</div>"
      ],
      "text/plain": [
       "     years-customer-register  avg-clicks-per-session  minutes-spent-on-app  \\\n",
       "0                   3.472021               33.119954             12.953263   \n",
       "1                   4.198349               35.371876             10.572467   \n",
       "2                   2.086348               33.976083             11.658037   \n",
       "3                   3.605934               34.034164             13.592513   \n",
       "4                   4.034386               32.770492             11.371767   \n",
       "..                       ...                     ...                   ...   \n",
       "495                 1.820811               34.606242             11.761884   \n",
       "496                 4.183144               34.238242             11.550300   \n",
       "497                 3.393903               32.047815             12.482670   \n",
       "498                 4.426364               30.971676             11.731364   \n",
       "499                 2.905238               33.606851             12.214074   \n",
       "\n",
       "     minutes-spent-on-website  total-amount-spent  \n",
       "0                   37.034280          534.771485  \n",
       "1                   36.862183          537.915753  \n",
       "2                   37.425279          407.876378  \n",
       "3                   36.838657          618.845970  \n",
       "4                   35.261498          502.771075  \n",
       "..                        ...                 ...  \n",
       "495                 38.126520          402.167122  \n",
       "496                 35.769330          551.023002  \n",
       "497                 35.536025          497.389558  \n",
       "498                 36.074551          494.638610  \n",
       "499                 37.198428          479.247417  \n",
       "\n",
       "[500 rows x 5 columns]"
      ]
     },
     "execution_count": 4,
     "metadata": {},
     "output_type": "execute_result"
    }
   ],
   "source": [
    "customers_table"
   ]
  },
  {
   "cell_type": "code",
   "execution_count": 5,
   "metadata": {},
   "outputs": [
    {
     "data": {
      "text/html": [
       "<div>\n",
       "<style scoped>\n",
       "    .dataframe tbody tr th:only-of-type {\n",
       "        vertical-align: middle;\n",
       "    }\n",
       "\n",
       "    .dataframe tbody tr th {\n",
       "        vertical-align: top;\n",
       "    }\n",
       "\n",
       "    .dataframe thead th {\n",
       "        text-align: right;\n",
       "    }\n",
       "</style>\n",
       "<table border=\"1\" class=\"dataframe\">\n",
       "  <thead>\n",
       "    <tr style=\"text-align: right;\">\n",
       "      <th></th>\n",
       "      <th>years-customer-register</th>\n",
       "      <th>avg-clicks-per-session</th>\n",
       "      <th>minutes-spent-on-app</th>\n",
       "      <th>minutes-spent-on-website</th>\n",
       "      <th>total-amount-spent</th>\n",
       "    </tr>\n",
       "  </thead>\n",
       "  <tbody>\n",
       "    <tr>\n",
       "      <th>count</th>\n",
       "      <td>500.000000</td>\n",
       "      <td>500.000000</td>\n",
       "      <td>500.000000</td>\n",
       "      <td>500.000000</td>\n",
       "      <td>500.000000</td>\n",
       "    </tr>\n",
       "    <tr>\n",
       "      <th>mean</th>\n",
       "      <td>3.533462</td>\n",
       "      <td>33.053194</td>\n",
       "      <td>12.052488</td>\n",
       "      <td>37.060445</td>\n",
       "      <td>499.314038</td>\n",
       "    </tr>\n",
       "    <tr>\n",
       "      <th>std</th>\n",
       "      <td>0.999278</td>\n",
       "      <td>0.992563</td>\n",
       "      <td>0.994216</td>\n",
       "      <td>1.010489</td>\n",
       "      <td>79.314782</td>\n",
       "    </tr>\n",
       "    <tr>\n",
       "      <th>min</th>\n",
       "      <td>0.269901</td>\n",
       "      <td>29.532429</td>\n",
       "      <td>8.508152</td>\n",
       "      <td>33.913847</td>\n",
       "      <td>256.670582</td>\n",
       "    </tr>\n",
       "    <tr>\n",
       "      <th>25%</th>\n",
       "      <td>2.930450</td>\n",
       "      <td>32.341822</td>\n",
       "      <td>11.388153</td>\n",
       "      <td>36.349257</td>\n",
       "      <td>445.038277</td>\n",
       "    </tr>\n",
       "    <tr>\n",
       "      <th>50%</th>\n",
       "      <td>3.533975</td>\n",
       "      <td>33.082008</td>\n",
       "      <td>11.983231</td>\n",
       "      <td>37.069367</td>\n",
       "      <td>498.887875</td>\n",
       "    </tr>\n",
       "    <tr>\n",
       "      <th>75%</th>\n",
       "      <td>4.126502</td>\n",
       "      <td>33.711985</td>\n",
       "      <td>12.753850</td>\n",
       "      <td>37.716432</td>\n",
       "      <td>549.313828</td>\n",
       "    </tr>\n",
       "    <tr>\n",
       "      <th>max</th>\n",
       "      <td>6.922689</td>\n",
       "      <td>36.139662</td>\n",
       "      <td>15.126994</td>\n",
       "      <td>40.005182</td>\n",
       "      <td>765.518462</td>\n",
       "    </tr>\n",
       "  </tbody>\n",
       "</table>\n",
       "</div>"
      ],
      "text/plain": [
       "       years-customer-register  avg-clicks-per-session  minutes-spent-on-app  \\\n",
       "count               500.000000              500.000000            500.000000   \n",
       "mean                  3.533462               33.053194             12.052488   \n",
       "std                   0.999278                0.992563              0.994216   \n",
       "min                   0.269901               29.532429              8.508152   \n",
       "25%                   2.930450               32.341822             11.388153   \n",
       "50%                   3.533975               33.082008             11.983231   \n",
       "75%                   4.126502               33.711985             12.753850   \n",
       "max                   6.922689               36.139662             15.126994   \n",
       "\n",
       "       minutes-spent-on-website  total-amount-spent  \n",
       "count                500.000000          500.000000  \n",
       "mean                  37.060445          499.314038  \n",
       "std                    1.010489           79.314782  \n",
       "min                   33.913847          256.670582  \n",
       "25%                   36.349257          445.038277  \n",
       "50%                   37.069367          498.887875  \n",
       "75%                   37.716432          549.313828  \n",
       "max                   40.005182          765.518462  "
      ]
     },
     "execution_count": 5,
     "metadata": {},
     "output_type": "execute_result"
    }
   ],
   "source": [
    "customers_table.describe()"
   ]
  },
  {
   "cell_type": "code",
   "execution_count": 6,
   "metadata": {},
   "outputs": [
    {
     "data": {
      "text/plain": [
       "False"
      ]
     },
     "execution_count": 6,
     "metadata": {},
     "output_type": "execute_result"
    }
   ],
   "source": [
    "customers_table.isnull().values.any()"
   ]
  },
  {
   "attachments": {},
   "cell_type": "markdown",
   "metadata": {},
   "source": [
    "---"
   ]
  },
  {
   "attachments": {},
   "cell_type": "markdown",
   "metadata": {},
   "source": [
    "### Exploratory Analysis"
   ]
  },
  {
   "attachments": {},
   "cell_type": "markdown",
   "metadata": {},
   "source": [
    "Here will do simple data analysis, just so we can capture some patterns within the data."
   ]
  },
  {
   "cell_type": "code",
   "execution_count": 7,
   "metadata": {},
   "outputs": [
    {
     "data": {
      "image/png": "[encoded data removed]",
      "text/plain": [
       "<Figure size 432x288 with 1 Axes>"
      ]
     },
     "metadata": {
      "needs_background": "light"
     },
     "output_type": "display_data"
    }
   ],
   "source": [
    "spending_by_years_registered = customers_table[['years-customer-register', 'total-amount-spent']].copy()\n",
    "spending_by_years_registered.loc[:,'years-customer-register'] = spending_by_years_registered.loc[:,'years-customer-register'].apply(np.floor)\n",
    "spending_by_years_registered = spending_by_years_registered.groupby('years-customer-register').mean().reset_index()\n",
    "\n",
    "ax = sns.barplot(data=spending_by_years_registered, x='years-customer-register', y='total-amount-spent')\n",
    "ax = ax.bar_label(ax.containers[0])"
   ]
  },
  {
   "cell_type": "code",
   "execution_count": 8,
   "metadata": {},
   "outputs": [
    {
     "data": {
      "text/plain": [
       "<AxesSubplot:xlabel='minutes-spent-on-app', ylabel='total-amount-spent'>"
      ]
     },
     "execution_count": 8,
     "metadata": {},
     "output_type": "execute_result"
    },
    {
     "data": {
      "image/png": "[encoded data removed]",
      "text/plain": [
       "<Figure size 432x288 with 1 Axes>"
      ]
     },
     "metadata": {
      "needs_background": "light"
     },
     "output_type": "display_data"
    }
   ],
   "source": [
    "sns.scatterplot(customers_table, x='minutes-spent-on-app', y='total-amount-spent')"
   ]
  },
  {
   "cell_type": "code",
   "execution_count": 9,
   "metadata": {},
   "outputs": [
    {
     "data": {
      "text/plain": [
       "<AxesSubplot:xlabel='minutes-spent-on-website', ylabel='total-amount-spent'>"
      ]
     },
     "execution_count": 9,
     "metadata": {},
     "output_type": "execute_result"
    },
    {
     "data": {
      "image/png": "[encoded data removed]",
      "text/plain": [
       "<Figure size 432x288 with 1 Axes>"
      ]
     },
     "metadata": {
      "needs_background": "light"
     },
     "output_type": "display_data"
    }
   ],
   "source": [
    "sns.scatterplot(customers_table, x='minutes-spent-on-website', y='total-amount-spent')"
   ]
  },
  {
   "attachments": {},
   "cell_type": "markdown",
   "metadata": {},
   "source": [
    "Now that's some intresting results! We can see that people tend to spend way more time on the website than on the app, and that minutes spent on the app has a bigger (and more positive) correlation with the total amount spent, than minutes spent on the website has with the total amount spent."
   ]
  },
  {
   "cell_type": "markdown",
   "metadata": {},
   "source": [
    "---"
   ]
  },
  {
   "attachments": {},
   "cell_type": "markdown",
   "metadata": {},
   "source": [
    "### Building models"
   ]
  },
  {
   "cell_type": "markdown",
   "metadata": {},
   "source": [
    "On to what matters, let's build our first model."
   ]
  },
  {
   "cell_type": "code",
   "execution_count": 10,
   "metadata": {},
   "outputs": [],
   "source": [
    "from sklearn.linear_model import LinearRegression, Ridge, RidgeCV, Lasso\n",
    "from sklearn.model_selection import train_test_split, GridSearchCV\n",
    "from sklearn.metrics import r2_score, mean_absolute_error, mean_squared_error"
   ]
  },
  {
   "cell_type": "code",
   "execution_count": 11,
   "metadata": {},
   "outputs": [],
   "source": [
    "X_unsplit = customers_table.drop(columns='total-amount-spent')\n",
    "y_unsplit = customers_table['total-amount-spent']\n",
    "X_train, X_test, y_train, y_test = train_test_split(X_unsplit, y_unsplit, test_size=0.3, random_state=42)"
   ]
  },
  {
   "cell_type": "code",
   "execution_count": 12,
   "metadata": {},
   "outputs": [
    {
     "name": "stdout",
     "output_type": "stream",
     "text": [
      "Test scores:\n",
      "MAE: 7.846872046461797\n",
      "RMSE: 9.950881133248888\n",
      "R2: 0.9839920743839589\n"
     ]
    }
   ],
   "source": [
    "linear_model = LinearRegression()\n",
    "linear_model.fit(X_train, y_train)\n",
    "first_model_test_prediction = linear_model.predict(X_test)\n",
    "\n",
    "print(f\"\"\"Test scores:\n",
    "MAE: {mean_absolute_error(y_test, first_model_test_prediction)}\n",
    "RMSE: {np.sqrt(mean_squared_error(y_test, first_model_test_prediction))}\n",
    "R2: {r2_score(y_test, first_model_test_prediction)}\"\"\")"
   ]
  },
  {
   "attachments": {},
   "cell_type": "markdown",
   "metadata": {},
   "source": [
    "Ok, that's an almost perfect model, both the train and test scores are on point. Let's try other models."
   ]
  },
  {
   "cell_type": "code",
   "execution_count": 13,
   "metadata": {},
   "outputs": [
    {
     "name": "stdout",
     "output_type": "stream",
     "text": [
      "Test scores:\n",
      "MAE: 7.8449324124386415\n",
      "RMSE: 9.93989100710135\n",
      "R2: 0.9840274143640405\n"
     ]
    }
   ],
   "source": [
    "ridge_model = Ridge()\n",
    "ridge_model.fit(X_train, y_train)\n",
    "ridge_model_prediction = ridge_model.predict(X_test)\n",
    "\n",
    "print(f\"\"\"Test scores:\n",
    "MAE: {mean_absolute_error(y_test, ridge_model_prediction)}\n",
    "RMSE: {np.sqrt(mean_squared_error(y_test, ridge_model_prediction))}\n",
    "R2: {r2_score(y_test, ridge_model_prediction)}\"\"\")"
   ]
  },
  {
   "cell_type": "markdown",
   "metadata": {},
   "source": [
    "We got a slight improvement!"
   ]
  },
  {
   "cell_type": "code",
   "execution_count": 14,
   "metadata": {},
   "outputs": [
    {
     "name": "stdout",
     "output_type": "stream",
     "text": [
      "Test scores:\n",
      "MAE: 7.846644843378763\n",
      "RMSE: 9.949561024133637\n",
      "R2: 0.9839963214062101\n"
     ]
    }
   ],
   "source": [
    "ridgecv_model = RidgeCV()\n",
    "ridgecv_model.fit(X_train, y_train)\n",
    "ridgecv_model_prediction = ridgecv_model.predict(X_test)\n",
    "\n",
    "print(f\"\"\"Test scores:\n",
    "MAE: {mean_absolute_error(y_test, ridgecv_model_prediction)}\n",
    "RMSE: {np.sqrt(mean_squared_error(y_test, ridgecv_model_prediction))}\n",
    "R2: {r2_score(y_test, ridgecv_model_prediction)}\"\"\")"
   ]
  },
  {
   "cell_type": "markdown",
   "metadata": {},
   "source": [
    "And the improvement is gone... On to the next model!"
   ]
  },
  {
   "cell_type": "code",
   "execution_count": 15,
   "metadata": {},
   "outputs": [
    {
     "name": "stdout",
     "output_type": "stream",
     "text": [
      "Test scores:\n",
      "MAE: 8.051714300961066\n",
      "RMSE: 10.083356116088499\n",
      "R2: 0.9835630137550018\n"
     ]
    }
   ],
   "source": [
    "lasso_model = Lasso()\n",
    "lasso_model.fit(X_train, y_train)\n",
    "lasso_model_prediction = lasso_model.predict(X_test)\n",
    "\n",
    "print(f\"\"\"Test scores:\n",
    "MAE: {mean_absolute_error(y_test, lasso_model_prediction)}\n",
    "RMSE: {np.sqrt(mean_squared_error(y_test, lasso_model_prediction))}\n",
    "R2: {r2_score(y_test, lasso_model_prediction)}\"\"\")"
   ]
  },
  {
   "attachments": {},
   "cell_type": "markdown",
   "metadata": {},
   "source": [
    "We got a winner, ridge_model presented the best overall results! Now we can move on to the next step."
   ]
  },
  {
   "attachments": {},
   "cell_type": "markdown",
   "metadata": {},
   "source": [
    "---"
   ]
  },
  {
   "cell_type": "markdown",
   "metadata": {},
   "source": [
    "### Predictions"
   ]
  },
  {
   "attachments": {},
   "cell_type": "markdown",
   "metadata": {},
   "source": [
    "We have our best model, now we need to predict how an improvement on either the \"app time\" or the \"website time\" will affect the total amount spent by a client. To do this, first we'll get the mean values from the historical data, after that we can try different scenarios, where we will change the usage time on both platforms, and see which one present the best results.  "
   ]
  },
  {
   "cell_type": "code",
   "execution_count": 16,
   "metadata": {},
   "outputs": [
    {
     "data": {
      "text/plain": [
       "years-customer-register       3.533462\n",
       "avg-clicks-per-session       33.053194\n",
       "minutes-spent-on-app         12.052488\n",
       "minutes-spent-on-website     37.060445\n",
       "total-amount-spent          499.314038\n",
       "dtype: float64"
      ]
     },
     "execution_count": 16,
     "metadata": {},
     "output_type": "execute_result"
    }
   ],
   "source": [
    "customers_table.mean()"
   ]
  },
  {
   "cell_type": "code",
   "execution_count": 17,
   "metadata": {},
   "outputs": [
    {
     "data": {
      "text/plain": [
       "array([499.04076385])"
      ]
     },
     "execution_count": 17,
     "metadata": {},
     "output_type": "execute_result"
    }
   ],
   "source": [
    "current_values = np.array([[3.533462, 33.053194, 12.052488, 37.060445]])\n",
    "current_prediction = ridge_model.predict(current_values)\n",
    "current_prediction"
   ]
  },
  {
   "attachments": {},
   "cell_type": "markdown",
   "metadata": {},
   "source": [
    "At the moment, using the current mean values, we have a prediction of 499.04 USD, it's a bit lower than the true total amount mean, but since we'll be comparing predictions, I think it's a good idea if all the values we use for comparison are predictions, including the current value."
   ]
  },
  {
   "cell_type": "code",
   "execution_count": 18,
   "metadata": {},
   "outputs": [],
   "source": [
    "scenarios = [{'scenario':'Current values', 'variable':'None','prediction':current_prediction.item()}]\n",
    "increase_rates = [0.01, 0.03, 0.05, 0.10]\n",
    "platforms_variables = ['minutes-spent-on-app', 'minutes-spent-on-website']\n",
    "\n",
    "for index, platform in enumerate(platforms_variables):\n",
    "    platform_index = index + 2\n",
    "\n",
    "    for rate in increase_rates:\n",
    "        input_values = current_values.copy()\n",
    "        input_values[0][platform_index] = input_values[0][platform_index] * (rate + 1)\n",
    "\n",
    "        prediction = ridge_model.predict(input_values)\n",
    "\n",
    "        scenario = {'scenario':f'{rate*100}% increase in {platform}', 'variable': platform, 'prediction': prediction.item()}\n",
    "        scenarios.append(scenario)\n"
   ]
  },
  {
   "cell_type": "code",
   "execution_count": 19,
   "metadata": {},
   "outputs": [
    {
     "data": {
      "text/html": [
       "<div>\n",
       "<style scoped>\n",
       "    .dataframe tbody tr th:only-of-type {\n",
       "        vertical-align: middle;\n",
       "    }\n",
       "\n",
       "    .dataframe tbody tr th {\n",
       "        vertical-align: top;\n",
       "    }\n",
       "\n",
       "    .dataframe thead th {\n",
       "        text-align: right;\n",
       "    }\n",
       "</style>\n",
       "<table border=\"1\" class=\"dataframe\">\n",
       "  <thead>\n",
       "    <tr style=\"text-align: right;\">\n",
       "      <th></th>\n",
       "      <th>scenario</th>\n",
       "      <th>variable</th>\n",
       "      <th>prediction</th>\n",
       "    </tr>\n",
       "  </thead>\n",
       "  <tbody>\n",
       "    <tr>\n",
       "      <th>0</th>\n",
       "      <td>Current values</td>\n",
       "      <td>None</td>\n",
       "      <td>499.040764</td>\n",
       "    </tr>\n",
       "    <tr>\n",
       "      <th>1</th>\n",
       "      <td>1.0% increase in minutes-spent-on-app</td>\n",
       "      <td>minutes-spent-on-app</td>\n",
       "      <td>503.639704</td>\n",
       "    </tr>\n",
       "    <tr>\n",
       "      <th>2</th>\n",
       "      <td>3.0% increase in minutes-spent-on-app</td>\n",
       "      <td>minutes-spent-on-app</td>\n",
       "      <td>512.837585</td>\n",
       "    </tr>\n",
       "    <tr>\n",
       "      <th>3</th>\n",
       "      <td>5.0% increase in minutes-spent-on-app</td>\n",
       "      <td>minutes-spent-on-app</td>\n",
       "      <td>522.035466</td>\n",
       "    </tr>\n",
       "    <tr>\n",
       "      <th>4</th>\n",
       "      <td>10.0% increase in minutes-spent-on-app</td>\n",
       "      <td>minutes-spent-on-app</td>\n",
       "      <td>545.030167</td>\n",
       "    </tr>\n",
       "    <tr>\n",
       "      <th>5</th>\n",
       "      <td>1.0% increase in minutes-spent-on-website</td>\n",
       "      <td>minutes-spent-on-website</td>\n",
       "      <td>499.201218</td>\n",
       "    </tr>\n",
       "    <tr>\n",
       "      <th>6</th>\n",
       "      <td>3.0% increase in minutes-spent-on-website</td>\n",
       "      <td>minutes-spent-on-website</td>\n",
       "      <td>499.522127</td>\n",
       "    </tr>\n",
       "    <tr>\n",
       "      <th>7</th>\n",
       "      <td>5.0% increase in minutes-spent-on-website</td>\n",
       "      <td>minutes-spent-on-website</td>\n",
       "      <td>499.843036</td>\n",
       "    </tr>\n",
       "    <tr>\n",
       "      <th>8</th>\n",
       "      <td>10.0% increase in minutes-spent-on-website</td>\n",
       "      <td>minutes-spent-on-website</td>\n",
       "      <td>500.645307</td>\n",
       "    </tr>\n",
       "  </tbody>\n",
       "</table>\n",
       "</div>"
      ],
      "text/plain": [
       "                                     scenario                  variable  \\\n",
       "0                              Current values                      None   \n",
       "1       1.0% increase in minutes-spent-on-app      minutes-spent-on-app   \n",
       "2       3.0% increase in minutes-spent-on-app      minutes-spent-on-app   \n",
       "3       5.0% increase in minutes-spent-on-app      minutes-spent-on-app   \n",
       "4      10.0% increase in minutes-spent-on-app      minutes-spent-on-app   \n",
       "5   1.0% increase in minutes-spent-on-website  minutes-spent-on-website   \n",
       "6   3.0% increase in minutes-spent-on-website  minutes-spent-on-website   \n",
       "7   5.0% increase in minutes-spent-on-website  minutes-spent-on-website   \n",
       "8  10.0% increase in minutes-spent-on-website  minutes-spent-on-website   \n",
       "\n",
       "   prediction  \n",
       "0  499.040764  \n",
       "1  503.639704  \n",
       "2  512.837585  \n",
       "3  522.035466  \n",
       "4  545.030167  \n",
       "5  499.201218  \n",
       "6  499.522127  \n",
       "7  499.843036  \n",
       "8  500.645307  "
      ]
     },
     "execution_count": 19,
     "metadata": {},
     "output_type": "execute_result"
    }
   ],
   "source": [
    "scenarios_table = pd.DataFrame(scenarios)\n",
    "scenarios_table"
   ]
  },
  {
   "cell_type": "code",
   "execution_count": 21,
   "metadata": {},
   "outputs": [
    {
     "data": {
      "image/png": "[encoded data removed]",
      "text/plain": [
       "<Figure size 432x288 with 1 Axes>"
      ]
     },
     "metadata": {
      "needs_background": "light"
     },
     "output_type": "display_data"
    }
   ],
   "source": [
    "app_scenarios = scenarios_table[scenarios_table['variable']=='minutes-spent-on-app'].copy()\n",
    "website_scenarios = scenarios_table[scenarios_table['variable']=='minutes-spent-on-website'].copy()\n",
    "\n",
    "plt.ylim(460,560)\n",
    "\n",
    "\n",
    "sns.lineplot(x=[1,3,5,10], y=[499,499,499,499], color='black')\n",
    "sns.lineplot(data=app_scenarios, x=[1,3,5,10], y='prediction')\n",
    "sns.lineplot(data=website_scenarios, x=[1,3,5,10], y='prediction', color='red')\n",
    "\n",
    "plt.ylabel('Total amount spent prediction')\n",
    "plt.xlabel('% increase of time spent on platform')\n",
    "plt.title('Mean amount spent by clientes based on time spent on platforms \\n')\n",
    "\n",
    "plt.show()"
   ]
  },
  {
   "attachments": {},
   "cell_type": "markdown",
   "metadata": {},
   "source": [
    "Conclusion: If we increase by **1%** the **time spent** by user on the **app**, the **sales** would increase by **0.9%**, while on the **website** the **sales** would only increase by **0.04%**. If we take it to a more positive scenario, let's say we gave a **10% increase on time spent on each platform**, when we talk about the **app** that would represent a **9% increase on sales**, while on **the website** the sales would increase only by **0.3%.**\n",
    "\n",
    "Considering this scenarios, the best choice for the company would be to improve their app."
   ]
  }
 ],
 "metadata": {
  "kernelspec": {
   "display_name": "Python 3",
   "language": "python",
   "name": "python3"
  },
  "language_info": {
   "codemirror_mode": {
    "name": "ipython",
    "version": 3
   },
   "file_extension": ".py",
   "mimetype": "text/x-python",
   "name": "python",
   "nbconvert_exporter": "python",
   "pygments_lexer": "ipython3",
   "version": "3.9.5"
  },
  "orig_nbformat": 4
 },
 "nbformat": 4,
 "nbformat_minor": 2
}
